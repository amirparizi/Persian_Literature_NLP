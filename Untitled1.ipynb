{
  "nbformat": 4,
  "nbformat_minor": 0,
  "metadata": {
    "colab": {
      "name": "Untitled1.ipynb",
      "provenance": [],
      "toc_visible": true,
      "include_colab_link": true
    },
    "kernelspec": {
      "name": "python3",
      "display_name": "Python 3"
    }
  },
  "cells": [
    {
      "cell_type": "markdown",
      "metadata": {
        "id": "view-in-github",
        "colab_type": "text"
      },
      "source": [
        "<a href=\"https://colab.research.google.com/github/amirparizi/Persian_Literature_NLP/blob/main/Untitled1.ipynb\" target=\"_parent\"><img src=\"https://colab.research.google.com/assets/colab-badge.svg\" alt=\"Open In Colab\"/></a>"
      ]
    },
    {
      "cell_type": "markdown",
      "metadata": {
        "id": "6HI47HOqQoef"
      },
      "source": [
        "In persian literature history, Hafiz (https://en.wikipedia.org/wiki/Hafez (14th century) and Ferdowsi (https://en.wikipedia.org/wiki/Ferdowsi) (12 Century) was among the best poem of all time.\n",
        "\n",
        "The most remarkable work of Ferdowsi called Shahname. (https://en.wikipedia.org/wiki/Shahnameh). the Shahnameh is one of the world's longest epic poems.\n",
        "\n",
        "A collection of numerous multilayered poems by Hafiz, the Divan consists primarily of sonnet-like verses (ghazals) quatrains (ruba‘is), and a few miscellaneous odes (qasidas) and fragments (qit‘as). Strong mystical themes abound, along with social criticism and philosophical and intellectual insights.\n",
        "\n",
        "To compare these classical persian literature with a modern poem , I decided to work on my favorite modern poem named Akhavan-Sales (https://en.wikipedia.org/wiki/Mehdi_Akhavan-Sales). He is one of the pioneers of Free Verse (New Style Poetry) in the Persian language."
      ]
    },
    {
      "cell_type": "markdown",
      "metadata": {
        "id": "F4p-Z34kQqYR"
      },
      "source": [
        "In section 1, I preprocessed some of Divan from Hafiz (Which is my his favorite work) and trained the RNN system using n-grams to predict poem in Hafiz style. Model reach to 90% accuracy and predict rest of seed_test in his style (Sorry for the persian words but if you are not persian, believe me those predictions make sense and look like Hafiz try to write poem when he is a little drunk!)\n",
        "\n",
        "In section 2, I preprocessed some parts of Shahnameh from Ferdowsi,Divan from Hafiz and collection poet from Akhavan to train my RNN (2 Bidirectional LSTM) network. The goal was to train a network that can predict other works by their other works which model achieved almost 100% accuracy on training set and 95% accuracy on validation set. Also model works well on test samples. You can try your sample but try to use distinctive samples from each poet."
      ]
    },
    {
      "cell_type": "markdown",
      "metadata": {
        "id": "u9lGOGtTmvL2"
      },
      "source": [
        "# Hafiz (Divan) style - Prediction new poem in Hafiz style"
      ]
    },
    {
      "cell_type": "code",
      "metadata": {
        "id": "sNPxlLLFMvMu"
      },
      "source": [
        "import tensorflow as tf\n",
        "\n",
        "from tensorflow.keras.preprocessing.sequence import pad_sequences\n",
        "from tensorflow.keras.layers import Embedding, LSTM, Dense, Bidirectional\n",
        "from tensorflow.keras.preprocessing.text import Tokenizer\n",
        "from tensorflow.keras.models import Sequential\n",
        "from tensorflow.keras.optimizers import Adam\n",
        "import numpy as np \n",
        "import pandas as pd"
      ],
      "execution_count": 1,
      "outputs": []
    },
    {
      "cell_type": "code",
      "metadata": {
        "id": "uDvvEj9GQ4N5",
        "outputId": "4548808d-842b-4475-95ef-3159a6d8ca38",
        "colab": {
          "base_uri": "https://localhost:8080/"
        }
      },
      "source": [
        "from google.colab import drive\n",
        "drive.mount('/content/drive')"
      ],
      "execution_count": 2,
      "outputs": [
        {
          "output_type": "stream",
          "text": [
            "Mounted at /content/drive\n"
          ],
          "name": "stdout"
        }
      ]
    },
    {
      "cell_type": "code",
      "metadata": {
        "id": "b9ygFJYAQ9hL"
      },
      "source": [
        "data_hafiz = open('/content/drive/My Drive/Hafez/Hafiz_tex.txt').read()"
      ],
      "execution_count": 76,
      "outputs": []
    },
    {
      "cell_type": "code",
      "metadata": {
        "id": "UJYmsRrwRUJE",
        "outputId": "c8f11963-1b76-4e28-801f-c44705d4803f",
        "colab": {
          "base_uri": "https://localhost:8080/"
        }
      },
      "source": [
        "tokenizer = Tokenizer()\n",
        "\n",
        "corpus = data_hafiz.lower().replace('\\t','').replace('\\u200c','').split(\"\\n\")\n",
        "\n",
        "tokenizer.fit_on_texts(corpus)\n",
        "total_words = len(tokenizer.word_index) + 1\n",
        "\n",
        "print(total_words)"
      ],
      "execution_count": 92,
      "outputs": [
        {
          "output_type": "stream",
          "text": [
            "2318\n"
          ],
          "name": "stdout"
        }
      ]
    },
    {
      "cell_type": "code",
      "metadata": {
        "id": "ohrjoKlmSmKT"
      },
      "source": [
        "corpus_update=[]\n",
        "for i in corpus:\n",
        "  if len(i)>15:\n",
        "    corpus_update.append(i)"
      ],
      "execution_count": 79,
      "outputs": []
    },
    {
      "cell_type": "code",
      "metadata": {
        "id": "MqWqQ2OuTKCc"
      },
      "source": [
        "input_sequences = []\n",
        "for line in corpus_update:\n",
        "\ttoken_list = tokenizer.texts_to_sequences([line])[0]\n",
        "\tfor i in range(1, len(token_list)):\n",
        "\t\tn_gram_sequence = token_list[:i+1]\n",
        "\t\tinput_sequences.append(n_gram_sequence)\n",
        "\n",
        "# pad sequences \n",
        "max_sequence_len = max([len(x) for x in input_sequences])\n",
        "input_sequences = np.array(pad_sequences(input_sequences, maxlen=int(max_sequence_len), padding='pre'))\n",
        "\n",
        "# create predictors and label\n",
        "xs, labels = input_sequences[:,:-1],input_sequences[:,-1]\n",
        "\n",
        "ys = tf.keras.utils.to_categorical(labels, num_classes=total_words)"
      ],
      "execution_count": 80,
      "outputs": []
    },
    {
      "cell_type": "code",
      "metadata": {
        "id": "_3tUpqNHYG3-",
        "outputId": "670f91f9-8eec-414c-96a5-93e5c72a77a3",
        "colab": {
          "base_uri": "https://localhost:8080/"
        }
      },
      "source": [
        "xs.shape"
      ],
      "execution_count": 81,
      "outputs": [
        {
          "output_type": "execute_result",
          "data": {
            "text/plain": [
              "(6290, 12)"
            ]
          },
          "metadata": {
            "tags": []
          },
          "execution_count": 81
        }
      ]
    },
    {
      "cell_type": "code",
      "metadata": {
        "id": "Yz7zw0fcTTvh",
        "outputId": "80b29a60-754e-416a-cc81-8a6fe128660b",
        "colab": {
          "base_uri": "https://localhost:8080/"
        }
      },
      "source": [
        "  model = Sequential()\n",
        "  model.add(Embedding(total_words, 64, input_length=max_sequence_len-1))\n",
        "  model.add(Bidirectional(LSTM(20)))\n",
        "  model.add(Dense(total_words, activation='softmax'))\n",
        "  model.compile(loss='categorical_crossentropy', optimizer='adam', metrics=['accuracy'])\n",
        "  history = model.fit(xs, ys, epochs=400, verbose=1)"
      ],
      "execution_count": 83,
      "outputs": [
        {
          "output_type": "stream",
          "text": [
            "Epoch 1/400\n",
            "197/197 [==============================] - 3s 13ms/step - loss: 7.0543 - accuracy: 0.0385\n",
            "Epoch 2/400\n",
            "197/197 [==============================] - 3s 13ms/step - loss: 6.5154 - accuracy: 0.0391\n",
            "Epoch 3/400\n",
            "197/197 [==============================] - 3s 13ms/step - loss: 6.4110 - accuracy: 0.0378\n",
            "Epoch 4/400\n",
            "197/197 [==============================] - 3s 13ms/step - loss: 6.3231 - accuracy: 0.0404\n",
            "Epoch 5/400\n",
            "197/197 [==============================] - 3s 13ms/step - loss: 6.2534 - accuracy: 0.0428\n",
            "Epoch 6/400\n",
            "197/197 [==============================] - 3s 14ms/step - loss: 6.1925 - accuracy: 0.0440\n",
            "Epoch 7/400\n",
            "197/197 [==============================] - 3s 13ms/step - loss: 6.1277 - accuracy: 0.0496\n",
            "Epoch 8/400\n",
            "197/197 [==============================] - 3s 13ms/step - loss: 6.0534 - accuracy: 0.0537\n",
            "Epoch 9/400\n",
            "197/197 [==============================] - 3s 13ms/step - loss: 5.9815 - accuracy: 0.0606\n",
            "Epoch 10/400\n",
            "197/197 [==============================] - 3s 14ms/step - loss: 5.8962 - accuracy: 0.0674\n",
            "Epoch 11/400\n",
            "197/197 [==============================] - 3s 14ms/step - loss: 5.8188 - accuracy: 0.0731\n",
            "Epoch 12/400\n",
            "197/197 [==============================] - 3s 13ms/step - loss: 5.7415 - accuracy: 0.0760\n",
            "Epoch 13/400\n",
            "197/197 [==============================] - 3s 13ms/step - loss: 5.6723 - accuracy: 0.0797\n",
            "Epoch 14/400\n",
            "197/197 [==============================] - 3s 14ms/step - loss: 5.6091 - accuracy: 0.0833\n",
            "Epoch 15/400\n",
            "197/197 [==============================] - 3s 14ms/step - loss: 5.5487 - accuracy: 0.0814\n",
            "Epoch 16/400\n",
            "197/197 [==============================] - 3s 13ms/step - loss: 5.4899 - accuracy: 0.0886\n",
            "Epoch 17/400\n",
            "197/197 [==============================] - 3s 13ms/step - loss: 5.4336 - accuracy: 0.0921\n",
            "Epoch 18/400\n",
            "197/197 [==============================] - 3s 14ms/step - loss: 5.3751 - accuracy: 0.0962\n",
            "Epoch 19/400\n",
            "197/197 [==============================] - 3s 14ms/step - loss: 5.3227 - accuracy: 0.1010\n",
            "Epoch 20/400\n",
            "197/197 [==============================] - 3s 14ms/step - loss: 5.2740 - accuracy: 0.1046\n",
            "Epoch 21/400\n",
            "197/197 [==============================] - 3s 15ms/step - loss: 5.2225 - accuracy: 0.1064\n",
            "Epoch 22/400\n",
            "197/197 [==============================] - 3s 14ms/step - loss: 5.1776 - accuracy: 0.1092\n",
            "Epoch 23/400\n",
            "197/197 [==============================] - 3s 14ms/step - loss: 5.1275 - accuracy: 0.1141\n",
            "Epoch 24/400\n",
            "197/197 [==============================] - 3s 13ms/step - loss: 5.0716 - accuracy: 0.1194\n",
            "Epoch 25/400\n",
            "197/197 [==============================] - 3s 13ms/step - loss: 5.0241 - accuracy: 0.1243\n",
            "Epoch 26/400\n",
            "197/197 [==============================] - 3s 14ms/step - loss: 4.9804 - accuracy: 0.1269\n",
            "Epoch 27/400\n",
            "197/197 [==============================] - 3s 14ms/step - loss: 4.9267 - accuracy: 0.1313\n",
            "Epoch 28/400\n",
            "197/197 [==============================] - 3s 13ms/step - loss: 4.8803 - accuracy: 0.1380\n",
            "Epoch 29/400\n",
            "197/197 [==============================] - 3s 13ms/step - loss: 4.8337 - accuracy: 0.1401\n",
            "Epoch 30/400\n",
            "197/197 [==============================] - 3s 14ms/step - loss: 4.7873 - accuracy: 0.1483\n",
            "Epoch 31/400\n",
            "197/197 [==============================] - 3s 14ms/step - loss: 4.7417 - accuracy: 0.1464\n",
            "Epoch 32/400\n",
            "197/197 [==============================] - 3s 13ms/step - loss: 4.6942 - accuracy: 0.1577\n",
            "Epoch 33/400\n",
            "197/197 [==============================] - 3s 13ms/step - loss: 4.6359 - accuracy: 0.1617\n",
            "Epoch 34/400\n",
            "197/197 [==============================] - 3s 14ms/step - loss: 4.5855 - accuracy: 0.1674\n",
            "Epoch 35/400\n",
            "197/197 [==============================] - 3s 13ms/step - loss: 4.5388 - accuracy: 0.1682\n",
            "Epoch 36/400\n",
            "197/197 [==============================] - 3s 13ms/step - loss: 4.4915 - accuracy: 0.1774\n",
            "Epoch 37/400\n",
            "197/197 [==============================] - 3s 13ms/step - loss: 4.4402 - accuracy: 0.1795\n",
            "Epoch 38/400\n",
            "197/197 [==============================] - 3s 13ms/step - loss: 4.3950 - accuracy: 0.1835\n",
            "Epoch 39/400\n",
            "197/197 [==============================] - 3s 14ms/step - loss: 4.3435 - accuracy: 0.1903\n",
            "Epoch 40/400\n",
            "197/197 [==============================] - 3s 13ms/step - loss: 4.2972 - accuracy: 0.1971\n",
            "Epoch 41/400\n",
            "197/197 [==============================] - 3s 13ms/step - loss: 4.2575 - accuracy: 0.2002\n",
            "Epoch 42/400\n",
            "197/197 [==============================] - 3s 14ms/step - loss: 4.2054 - accuracy: 0.2086\n",
            "Epoch 43/400\n",
            "197/197 [==============================] - 3s 14ms/step - loss: 4.1551 - accuracy: 0.2100\n",
            "Epoch 44/400\n",
            "197/197 [==============================] - 3s 13ms/step - loss: 4.1062 - accuracy: 0.2184\n",
            "Epoch 45/400\n",
            "197/197 [==============================] - 3s 14ms/step - loss: 4.0582 - accuracy: 0.2246\n",
            "Epoch 46/400\n",
            "197/197 [==============================] - 3s 13ms/step - loss: 4.0069 - accuracy: 0.2343\n",
            "Epoch 47/400\n",
            "197/197 [==============================] - 3s 13ms/step - loss: 3.9523 - accuracy: 0.2351\n",
            "Epoch 48/400\n",
            "197/197 [==============================] - 3s 14ms/step - loss: 3.9067 - accuracy: 0.2467\n",
            "Epoch 49/400\n",
            "197/197 [==============================] - 3s 14ms/step - loss: 3.8683 - accuracy: 0.2498\n",
            "Epoch 50/400\n",
            "197/197 [==============================] - 3s 13ms/step - loss: 3.8179 - accuracy: 0.2534\n",
            "Epoch 51/400\n",
            "197/197 [==============================] - 3s 13ms/step - loss: 3.7801 - accuracy: 0.2564\n",
            "Epoch 52/400\n",
            "197/197 [==============================] - 3s 13ms/step - loss: 3.7240 - accuracy: 0.2696\n",
            "Epoch 53/400\n",
            "197/197 [==============================] - 3s 14ms/step - loss: 3.6910 - accuracy: 0.2733\n",
            "Epoch 54/400\n",
            "197/197 [==============================] - 3s 13ms/step - loss: 3.6311 - accuracy: 0.2827\n",
            "Epoch 55/400\n",
            "197/197 [==============================] - 3s 13ms/step - loss: 3.5834 - accuracy: 0.2924\n",
            "Epoch 56/400\n",
            "197/197 [==============================] - 3s 13ms/step - loss: 3.5376 - accuracy: 0.2971\n",
            "Epoch 57/400\n",
            "197/197 [==============================] - 3s 14ms/step - loss: 3.5071 - accuracy: 0.3037\n",
            "Epoch 58/400\n",
            "197/197 [==============================] - 3s 13ms/step - loss: 3.4612 - accuracy: 0.3099\n",
            "Epoch 59/400\n",
            "197/197 [==============================] - 3s 13ms/step - loss: 3.4220 - accuracy: 0.3135\n",
            "Epoch 60/400\n",
            "197/197 [==============================] - 3s 14ms/step - loss: 3.3876 - accuracy: 0.3211\n",
            "Epoch 61/400\n",
            "197/197 [==============================] - 3s 13ms/step - loss: 3.3323 - accuracy: 0.3288\n",
            "Epoch 62/400\n",
            "197/197 [==============================] - 3s 13ms/step - loss: 3.2863 - accuracy: 0.3356\n",
            "Epoch 63/400\n",
            "197/197 [==============================] - 3s 13ms/step - loss: 3.2455 - accuracy: 0.3456\n",
            "Epoch 64/400\n",
            "197/197 [==============================] - 3s 13ms/step - loss: 3.2066 - accuracy: 0.3550\n",
            "Epoch 65/400\n",
            "197/197 [==============================] - 3s 14ms/step - loss: 3.1766 - accuracy: 0.3591\n",
            "Epoch 66/400\n",
            "197/197 [==============================] - 3s 13ms/step - loss: 3.1251 - accuracy: 0.3649\n",
            "Epoch 67/400\n",
            "197/197 [==============================] - 3s 13ms/step - loss: 3.0920 - accuracy: 0.3725\n",
            "Epoch 68/400\n",
            "197/197 [==============================] - 3s 14ms/step - loss: 3.0567 - accuracy: 0.3789\n",
            "Epoch 69/400\n",
            "197/197 [==============================] - 3s 14ms/step - loss: 3.0033 - accuracy: 0.3927\n",
            "Epoch 70/400\n",
            "197/197 [==============================] - 3s 13ms/step - loss: 2.9672 - accuracy: 0.3997\n",
            "Epoch 71/400\n",
            "197/197 [==============================] - 3s 13ms/step - loss: 2.9248 - accuracy: 0.4081\n",
            "Epoch 72/400\n",
            "197/197 [==============================] - 3s 14ms/step - loss: 2.8926 - accuracy: 0.4113\n",
            "Epoch 73/400\n",
            "197/197 [==============================] - 3s 16ms/step - loss: 2.8572 - accuracy: 0.4237\n",
            "Epoch 74/400\n",
            "197/197 [==============================] - 3s 14ms/step - loss: 2.8204 - accuracy: 0.4259\n",
            "Epoch 75/400\n",
            "197/197 [==============================] - 3s 14ms/step - loss: 2.7839 - accuracy: 0.4358\n",
            "Epoch 76/400\n",
            "197/197 [==============================] - 3s 13ms/step - loss: 2.7441 - accuracy: 0.4426\n",
            "Epoch 77/400\n",
            "197/197 [==============================] - 3s 13ms/step - loss: 2.7179 - accuracy: 0.4506\n",
            "Epoch 78/400\n",
            "197/197 [==============================] - 3s 14ms/step - loss: 2.6983 - accuracy: 0.4512\n",
            "Epoch 79/400\n",
            "197/197 [==============================] - 3s 13ms/step - loss: 2.6714 - accuracy: 0.4568\n",
            "Epoch 80/400\n",
            "197/197 [==============================] - 3s 13ms/step - loss: 2.6258 - accuracy: 0.4696\n",
            "Epoch 81/400\n",
            "197/197 [==============================] - 3s 13ms/step - loss: 2.5862 - accuracy: 0.4739\n",
            "Epoch 82/400\n",
            "197/197 [==============================] - 3s 13ms/step - loss: 2.5518 - accuracy: 0.4863\n",
            "Epoch 83/400\n",
            "197/197 [==============================] - 3s 13ms/step - loss: 2.5187 - accuracy: 0.4917\n",
            "Epoch 84/400\n",
            "197/197 [==============================] - 3s 14ms/step - loss: 2.4817 - accuracy: 0.4970\n",
            "Epoch 85/400\n",
            "197/197 [==============================] - 3s 13ms/step - loss: 2.4567 - accuracy: 0.5002\n",
            "Epoch 86/400\n",
            "197/197 [==============================] - 3s 13ms/step - loss: 2.4206 - accuracy: 0.5134\n",
            "Epoch 87/400\n",
            "197/197 [==============================] - 3s 16ms/step - loss: 2.3958 - accuracy: 0.5162\n",
            "Epoch 88/400\n",
            "197/197 [==============================] - 3s 14ms/step - loss: 2.3623 - accuracy: 0.5226\n",
            "Epoch 89/400\n",
            "197/197 [==============================] - 3s 13ms/step - loss: 2.3322 - accuracy: 0.5283\n",
            "Epoch 90/400\n",
            "197/197 [==============================] - 3s 14ms/step - loss: 2.3211 - accuracy: 0.5267\n",
            "Epoch 91/400\n",
            "197/197 [==============================] - 3s 13ms/step - loss: 2.2878 - accuracy: 0.5328\n",
            "Epoch 92/400\n",
            "197/197 [==============================] - 3s 14ms/step - loss: 2.2557 - accuracy: 0.5428\n",
            "Epoch 93/400\n",
            "197/197 [==============================] - 3s 14ms/step - loss: 2.2270 - accuracy: 0.5485\n",
            "Epoch 94/400\n",
            "197/197 [==============================] - 3s 14ms/step - loss: 2.1945 - accuracy: 0.5548\n",
            "Epoch 95/400\n",
            "197/197 [==============================] - 3s 14ms/step - loss: 2.1662 - accuracy: 0.5620\n",
            "Epoch 96/400\n",
            "197/197 [==============================] - 3s 13ms/step - loss: 2.1476 - accuracy: 0.5653\n",
            "Epoch 97/400\n",
            "197/197 [==============================] - 3s 14ms/step - loss: 2.1294 - accuracy: 0.5658\n",
            "Epoch 98/400\n",
            "197/197 [==============================] - 3s 14ms/step - loss: 2.1036 - accuracy: 0.5663\n",
            "Epoch 99/400\n",
            "197/197 [==============================] - 3s 13ms/step - loss: 2.0782 - accuracy: 0.5731\n",
            "Epoch 100/400\n",
            "197/197 [==============================] - 3s 14ms/step - loss: 2.0509 - accuracy: 0.5801\n",
            "Epoch 101/400\n",
            "197/197 [==============================] - 3s 14ms/step - loss: 2.0209 - accuracy: 0.5847\n",
            "Epoch 102/400\n",
            "197/197 [==============================] - 3s 14ms/step - loss: 2.0006 - accuracy: 0.5866\n",
            "Epoch 103/400\n",
            "197/197 [==============================] - 3s 14ms/step - loss: 1.9770 - accuracy: 0.5932\n",
            "Epoch 104/400\n",
            "197/197 [==============================] - 3s 13ms/step - loss: 1.9537 - accuracy: 0.5994\n",
            "Epoch 105/400\n",
            "197/197 [==============================] - 3s 13ms/step - loss: 1.9387 - accuracy: 0.6054\n",
            "Epoch 106/400\n",
            "197/197 [==============================] - 3s 13ms/step - loss: 1.9253 - accuracy: 0.6000\n",
            "Epoch 107/400\n",
            "197/197 [==============================] - 3s 13ms/step - loss: 1.9011 - accuracy: 0.6024\n",
            "Epoch 108/400\n",
            "197/197 [==============================] - 3s 13ms/step - loss: 1.8734 - accuracy: 0.6105\n",
            "Epoch 109/400\n",
            "197/197 [==============================] - 3s 13ms/step - loss: 1.8488 - accuracy: 0.6149\n",
            "Epoch 110/400\n",
            "197/197 [==============================] - 3s 13ms/step - loss: 1.8344 - accuracy: 0.6191\n",
            "Epoch 111/400\n",
            "197/197 [==============================] - 3s 13ms/step - loss: 1.8231 - accuracy: 0.6232\n",
            "Epoch 112/400\n",
            "197/197 [==============================] - 3s 14ms/step - loss: 1.8091 - accuracy: 0.6258\n",
            "Epoch 113/400\n",
            "197/197 [==============================] - 3s 13ms/step - loss: 1.7957 - accuracy: 0.6246\n",
            "Epoch 114/400\n",
            "197/197 [==============================] - 3s 14ms/step - loss: 1.7611 - accuracy: 0.6308\n",
            "Epoch 115/400\n",
            "197/197 [==============================] - 3s 14ms/step - loss: 1.7427 - accuracy: 0.6369\n",
            "Epoch 116/400\n",
            "197/197 [==============================] - 3s 13ms/step - loss: 1.7201 - accuracy: 0.6424\n",
            "Epoch 117/400\n",
            "197/197 [==============================] - 3s 14ms/step - loss: 1.7048 - accuracy: 0.6472\n",
            "Epoch 118/400\n",
            "197/197 [==============================] - 3s 13ms/step - loss: 1.7105 - accuracy: 0.6418\n",
            "Epoch 119/400\n",
            "197/197 [==============================] - 3s 13ms/step - loss: 1.6880 - accuracy: 0.6471\n",
            "Epoch 120/400\n",
            "197/197 [==============================] - 3s 14ms/step - loss: 1.6672 - accuracy: 0.6502\n",
            "Epoch 121/400\n",
            "197/197 [==============================] - 3s 14ms/step - loss: 1.6423 - accuracy: 0.6576\n",
            "Epoch 122/400\n",
            "197/197 [==============================] - 3s 13ms/step - loss: 1.6325 - accuracy: 0.6598\n",
            "Epoch 123/400\n",
            "197/197 [==============================] - 3s 13ms/step - loss: 1.6063 - accuracy: 0.6655\n",
            "Epoch 124/400\n",
            "197/197 [==============================] - 3s 13ms/step - loss: 1.5904 - accuracy: 0.6652\n",
            "Epoch 125/400\n",
            "197/197 [==============================] - 3s 13ms/step - loss: 1.5671 - accuracy: 0.6750\n",
            "Epoch 126/400\n",
            "197/197 [==============================] - 3s 14ms/step - loss: 1.5497 - accuracy: 0.6755\n",
            "Epoch 127/400\n",
            "197/197 [==============================] - 3s 14ms/step - loss: 1.5467 - accuracy: 0.6789\n",
            "Epoch 128/400\n",
            "197/197 [==============================] - 3s 14ms/step - loss: 1.5320 - accuracy: 0.6790\n",
            "Epoch 129/400\n",
            "197/197 [==============================] - 3s 13ms/step - loss: 1.5177 - accuracy: 0.6825\n",
            "Epoch 130/400\n",
            "197/197 [==============================] - 3s 13ms/step - loss: 1.5135 - accuracy: 0.6816\n",
            "Epoch 131/400\n",
            "197/197 [==============================] - 3s 13ms/step - loss: 1.4908 - accuracy: 0.6854\n",
            "Epoch 132/400\n",
            "197/197 [==============================] - 3s 14ms/step - loss: 1.4731 - accuracy: 0.6921\n",
            "Epoch 133/400\n",
            "197/197 [==============================] - 3s 13ms/step - loss: 1.4597 - accuracy: 0.6921\n",
            "Epoch 134/400\n",
            "197/197 [==============================] - 3s 14ms/step - loss: 1.4476 - accuracy: 0.6962\n",
            "Epoch 135/400\n",
            "197/197 [==============================] - 3s 14ms/step - loss: 1.4278 - accuracy: 0.6976\n",
            "Epoch 136/400\n",
            "197/197 [==============================] - 3s 14ms/step - loss: 1.4104 - accuracy: 0.7032\n",
            "Epoch 137/400\n",
            "197/197 [==============================] - 3s 14ms/step - loss: 1.3982 - accuracy: 0.7056\n",
            "Epoch 138/400\n",
            "197/197 [==============================] - 3s 14ms/step - loss: 1.3960 - accuracy: 0.7078\n",
            "Epoch 139/400\n",
            "197/197 [==============================] - 3s 13ms/step - loss: 1.3853 - accuracy: 0.7045\n",
            "Epoch 140/400\n",
            "197/197 [==============================] - 3s 13ms/step - loss: 1.3805 - accuracy: 0.7076\n",
            "Epoch 141/400\n",
            "197/197 [==============================] - 3s 14ms/step - loss: 1.3623 - accuracy: 0.7097\n",
            "Epoch 142/400\n",
            "197/197 [==============================] - 3s 13ms/step - loss: 1.3443 - accuracy: 0.7137\n",
            "Epoch 143/400\n",
            "197/197 [==============================] - 3s 13ms/step - loss: 1.3400 - accuracy: 0.7192\n",
            "Epoch 144/400\n",
            "197/197 [==============================] - 3s 13ms/step - loss: 1.3187 - accuracy: 0.7215\n",
            "Epoch 145/400\n",
            "197/197 [==============================] - 3s 13ms/step - loss: 1.3127 - accuracy: 0.7199\n",
            "Epoch 146/400\n",
            "197/197 [==============================] - 3s 14ms/step - loss: 1.3071 - accuracy: 0.7211\n",
            "Epoch 147/400\n",
            "197/197 [==============================] - 3s 14ms/step - loss: 1.2857 - accuracy: 0.7281\n",
            "Epoch 148/400\n",
            "197/197 [==============================] - 3s 13ms/step - loss: 1.2695 - accuracy: 0.7293\n",
            "Epoch 149/400\n",
            "197/197 [==============================] - 3s 13ms/step - loss: 1.2655 - accuracy: 0.7293\n",
            "Epoch 150/400\n",
            "197/197 [==============================] - 3s 14ms/step - loss: 1.2630 - accuracy: 0.7308\n",
            "Epoch 151/400\n",
            "197/197 [==============================] - 3s 14ms/step - loss: 1.2546 - accuracy: 0.7305\n",
            "Epoch 152/400\n",
            "197/197 [==============================] - 3s 13ms/step - loss: 1.2415 - accuracy: 0.7350\n",
            "Epoch 153/400\n",
            "197/197 [==============================] - 3s 14ms/step - loss: 1.2363 - accuracy: 0.7359\n",
            "Epoch 154/400\n",
            "197/197 [==============================] - 3s 14ms/step - loss: 1.2126 - accuracy: 0.7413\n",
            "Epoch 155/400\n",
            "197/197 [==============================] - 3s 14ms/step - loss: 1.1987 - accuracy: 0.7461\n",
            "Epoch 156/400\n",
            "197/197 [==============================] - 3s 14ms/step - loss: 1.1852 - accuracy: 0.7453\n",
            "Epoch 157/400\n",
            "197/197 [==============================] - 3s 13ms/step - loss: 1.1797 - accuracy: 0.7486\n",
            "Epoch 158/400\n",
            "197/197 [==============================] - 3s 13ms/step - loss: 1.1741 - accuracy: 0.7480\n",
            "Epoch 159/400\n",
            "197/197 [==============================] - 3s 14ms/step - loss: 1.1606 - accuracy: 0.7545\n",
            "Epoch 160/400\n",
            "197/197 [==============================] - 3s 14ms/step - loss: 1.1516 - accuracy: 0.7553\n",
            "Epoch 161/400\n",
            "197/197 [==============================] - 3s 14ms/step - loss: 1.1490 - accuracy: 0.7587\n",
            "Epoch 162/400\n",
            "197/197 [==============================] - 3s 13ms/step - loss: 1.1341 - accuracy: 0.7588\n",
            "Epoch 163/400\n",
            "197/197 [==============================] - 3s 13ms/step - loss: 1.1480 - accuracy: 0.7560\n",
            "Epoch 164/400\n",
            "197/197 [==============================] - 3s 13ms/step - loss: 1.1436 - accuracy: 0.7525\n",
            "Epoch 165/400\n",
            "197/197 [==============================] - 3s 15ms/step - loss: 1.1248 - accuracy: 0.7564\n",
            "Epoch 166/400\n",
            "197/197 [==============================] - 3s 14ms/step - loss: 1.1024 - accuracy: 0.7628\n",
            "Epoch 167/400\n",
            "197/197 [==============================] - 3s 13ms/step - loss: 1.0879 - accuracy: 0.7655\n",
            "Epoch 168/400\n",
            "197/197 [==============================] - 3s 13ms/step - loss: 1.0879 - accuracy: 0.7676\n",
            "Epoch 169/400\n",
            "197/197 [==============================] - 3s 14ms/step - loss: 1.0798 - accuracy: 0.7657\n",
            "Epoch 170/400\n",
            "197/197 [==============================] - 3s 14ms/step - loss: 1.0696 - accuracy: 0.7680\n",
            "Epoch 171/400\n",
            "197/197 [==============================] - 3s 13ms/step - loss: 1.0594 - accuracy: 0.7682\n",
            "Epoch 172/400\n",
            "197/197 [==============================] - 3s 13ms/step - loss: 1.0591 - accuracy: 0.7728\n",
            "Epoch 173/400\n",
            "197/197 [==============================] - 3s 13ms/step - loss: 1.0406 - accuracy: 0.7757\n",
            "Epoch 174/400\n",
            "197/197 [==============================] - 3s 13ms/step - loss: 1.0360 - accuracy: 0.7763\n",
            "Epoch 175/400\n",
            "197/197 [==============================] - 3s 14ms/step - loss: 1.0245 - accuracy: 0.7808\n",
            "Epoch 176/400\n",
            "197/197 [==============================] - 3s 14ms/step - loss: 1.0123 - accuracy: 0.7814\n",
            "Epoch 177/400\n",
            "197/197 [==============================] - 3s 14ms/step - loss: 1.0093 - accuracy: 0.7811\n",
            "Epoch 178/400\n",
            "197/197 [==============================] - 3s 14ms/step - loss: 1.0024 - accuracy: 0.7844\n",
            "Epoch 179/400\n",
            "197/197 [==============================] - 3s 14ms/step - loss: 0.9924 - accuracy: 0.7839\n",
            "Epoch 180/400\n",
            "197/197 [==============================] - 3s 14ms/step - loss: 0.9863 - accuracy: 0.7895\n",
            "Epoch 181/400\n",
            "197/197 [==============================] - 3s 14ms/step - loss: 0.9852 - accuracy: 0.7871\n",
            "Epoch 182/400\n",
            "197/197 [==============================] - 3s 13ms/step - loss: 0.9797 - accuracy: 0.7879\n",
            "Epoch 183/400\n",
            "197/197 [==============================] - 3s 13ms/step - loss: 0.9620 - accuracy: 0.7906\n",
            "Epoch 184/400\n",
            "197/197 [==============================] - 3s 14ms/step - loss: 0.9632 - accuracy: 0.7903\n",
            "Epoch 185/400\n",
            "197/197 [==============================] - 3s 13ms/step - loss: 0.9559 - accuracy: 0.7940\n",
            "Epoch 186/400\n",
            "197/197 [==============================] - 3s 14ms/step - loss: 0.9415 - accuracy: 0.7970\n",
            "Epoch 187/400\n",
            "197/197 [==============================] - 3s 14ms/step - loss: 0.9331 - accuracy: 0.7973\n",
            "Epoch 188/400\n",
            "197/197 [==============================] - 3s 14ms/step - loss: 0.9276 - accuracy: 0.8010\n",
            "Epoch 189/400\n",
            "197/197 [==============================] - 3s 14ms/step - loss: 0.9165 - accuracy: 0.8005\n",
            "Epoch 190/400\n",
            "197/197 [==============================] - 3s 16ms/step - loss: 0.9092 - accuracy: 0.8048\n",
            "Epoch 191/400\n",
            "197/197 [==============================] - 3s 13ms/step - loss: 0.9045 - accuracy: 0.8029\n",
            "Epoch 192/400\n",
            "197/197 [==============================] - 3s 13ms/step - loss: 0.8966 - accuracy: 0.8032\n",
            "Epoch 193/400\n",
            "197/197 [==============================] - 3s 13ms/step - loss: 0.8983 - accuracy: 0.8024\n",
            "Epoch 194/400\n",
            "197/197 [==============================] - 3s 14ms/step - loss: 0.8946 - accuracy: 0.8016\n",
            "Epoch 195/400\n",
            "197/197 [==============================] - 3s 14ms/step - loss: 0.8799 - accuracy: 0.8078\n",
            "Epoch 196/400\n",
            "197/197 [==============================] - 3s 13ms/step - loss: 0.8775 - accuracy: 0.8118\n",
            "Epoch 197/400\n",
            "197/197 [==============================] - 3s 14ms/step - loss: 0.8855 - accuracy: 0.8060\n",
            "Epoch 198/400\n",
            "197/197 [==============================] - 3s 14ms/step - loss: 0.8865 - accuracy: 0.8067\n",
            "Epoch 199/400\n",
            "197/197 [==============================] - 3s 14ms/step - loss: 0.8702 - accuracy: 0.8092\n",
            "Epoch 200/400\n",
            "197/197 [==============================] - 3s 14ms/step - loss: 0.8614 - accuracy: 0.8102\n",
            "Epoch 201/400\n",
            "197/197 [==============================] - 3s 14ms/step - loss: 0.8532 - accuracy: 0.8141\n",
            "Epoch 202/400\n",
            "197/197 [==============================] - 3s 14ms/step - loss: 0.8354 - accuracy: 0.8192\n",
            "Epoch 203/400\n",
            "197/197 [==============================] - 3s 14ms/step - loss: 0.8282 - accuracy: 0.8197\n",
            "Epoch 204/400\n",
            "197/197 [==============================] - 3s 15ms/step - loss: 0.8213 - accuracy: 0.8186\n",
            "Epoch 205/400\n",
            "197/197 [==============================] - 3s 14ms/step - loss: 0.8167 - accuracy: 0.8186\n",
            "Epoch 206/400\n",
            "197/197 [==============================] - 3s 14ms/step - loss: 0.8266 - accuracy: 0.8165\n",
            "Epoch 207/400\n",
            "197/197 [==============================] - 3s 14ms/step - loss: 0.8156 - accuracy: 0.8207\n",
            "Epoch 208/400\n",
            "197/197 [==============================] - 3s 14ms/step - loss: 0.8114 - accuracy: 0.8219\n",
            "Epoch 209/400\n",
            "197/197 [==============================] - 3s 14ms/step - loss: 0.8041 - accuracy: 0.8216\n",
            "Epoch 210/400\n",
            "197/197 [==============================] - 3s 15ms/step - loss: 0.7905 - accuracy: 0.8283\n",
            "Epoch 211/400\n",
            "197/197 [==============================] - 3s 13ms/step - loss: 0.7921 - accuracy: 0.8275\n",
            "Epoch 212/400\n",
            "197/197 [==============================] - 3s 14ms/step - loss: 0.7837 - accuracy: 0.8289\n",
            "Epoch 213/400\n",
            "197/197 [==============================] - 3s 14ms/step - loss: 0.7870 - accuracy: 0.8299\n",
            "Epoch 214/400\n",
            "197/197 [==============================] - 3s 13ms/step - loss: 0.7981 - accuracy: 0.8221\n",
            "Epoch 215/400\n",
            "197/197 [==============================] - 3s 14ms/step - loss: 0.7821 - accuracy: 0.8277\n",
            "Epoch 216/400\n",
            "197/197 [==============================] - 3s 14ms/step - loss: 0.7657 - accuracy: 0.8323\n",
            "Epoch 217/400\n",
            "197/197 [==============================] - 3s 14ms/step - loss: 0.7528 - accuracy: 0.8316\n",
            "Epoch 218/400\n",
            "197/197 [==============================] - 3s 14ms/step - loss: 0.7597 - accuracy: 0.8339\n",
            "Epoch 219/400\n",
            "197/197 [==============================] - 3s 13ms/step - loss: 0.7593 - accuracy: 0.8332\n",
            "Epoch 220/400\n",
            "197/197 [==============================] - 3s 13ms/step - loss: 0.7509 - accuracy: 0.8320\n",
            "Epoch 221/400\n",
            "197/197 [==============================] - 3s 14ms/step - loss: 0.7345 - accuracy: 0.8370\n",
            "Epoch 222/400\n",
            "197/197 [==============================] - 3s 14ms/step - loss: 0.7315 - accuracy: 0.8412\n",
            "Epoch 223/400\n",
            "197/197 [==============================] - 3s 14ms/step - loss: 0.7333 - accuracy: 0.8362\n",
            "Epoch 224/400\n",
            "197/197 [==============================] - 3s 13ms/step - loss: 0.7204 - accuracy: 0.8386\n",
            "Epoch 225/400\n",
            "197/197 [==============================] - 3s 14ms/step - loss: 0.7161 - accuracy: 0.8421\n",
            "Epoch 226/400\n",
            "197/197 [==============================] - 3s 13ms/step - loss: 0.7094 - accuracy: 0.8429\n",
            "Epoch 227/400\n",
            "197/197 [==============================] - 3s 14ms/step - loss: 0.7102 - accuracy: 0.8417\n",
            "Epoch 228/400\n",
            "197/197 [==============================] - 3s 13ms/step - loss: 0.7102 - accuracy: 0.8424\n",
            "Epoch 229/400\n",
            "197/197 [==============================] - 3s 13ms/step - loss: 0.7322 - accuracy: 0.8386\n",
            "Epoch 230/400\n",
            "197/197 [==============================] - 3s 14ms/step - loss: 0.7396 - accuracy: 0.8313\n",
            "Epoch 231/400\n",
            "197/197 [==============================] - 3s 15ms/step - loss: 0.7244 - accuracy: 0.8350\n",
            "Epoch 232/400\n",
            "197/197 [==============================] - 3s 14ms/step - loss: 0.7112 - accuracy: 0.8396\n",
            "Epoch 233/400\n",
            "197/197 [==============================] - 3s 13ms/step - loss: 0.6912 - accuracy: 0.8474\n",
            "Epoch 234/400\n",
            "197/197 [==============================] - 3s 13ms/step - loss: 0.6796 - accuracy: 0.8475\n",
            "Epoch 235/400\n",
            "197/197 [==============================] - 3s 14ms/step - loss: 0.6781 - accuracy: 0.8506\n",
            "Epoch 236/400\n",
            "197/197 [==============================] - 3s 13ms/step - loss: 0.6636 - accuracy: 0.8521\n",
            "Epoch 237/400\n",
            "197/197 [==============================] - 3s 14ms/step - loss: 0.6605 - accuracy: 0.8521\n",
            "Epoch 238/400\n",
            "197/197 [==============================] - 3s 14ms/step - loss: 0.6643 - accuracy: 0.8498\n",
            "Epoch 239/400\n",
            "197/197 [==============================] - 3s 15ms/step - loss: 0.6637 - accuracy: 0.8491\n",
            "Epoch 240/400\n",
            "197/197 [==============================] - 3s 14ms/step - loss: 0.6745 - accuracy: 0.8475\n",
            "Epoch 241/400\n",
            "197/197 [==============================] - 3s 14ms/step - loss: 0.6561 - accuracy: 0.8498\n",
            "Epoch 242/400\n",
            "197/197 [==============================] - 3s 14ms/step - loss: 0.6551 - accuracy: 0.8539\n",
            "Epoch 243/400\n",
            "197/197 [==============================] - 3s 13ms/step - loss: 0.6463 - accuracy: 0.8534\n",
            "Epoch 244/400\n",
            "197/197 [==============================] - 3s 14ms/step - loss: 0.6414 - accuracy: 0.8553\n",
            "Epoch 245/400\n",
            "197/197 [==============================] - 3s 14ms/step - loss: 0.6432 - accuracy: 0.8518\n",
            "Epoch 246/400\n",
            "197/197 [==============================] - 3s 14ms/step - loss: 0.6339 - accuracy: 0.8577\n",
            "Epoch 247/400\n",
            "197/197 [==============================] - 3s 14ms/step - loss: 0.6382 - accuracy: 0.8548\n",
            "Epoch 248/400\n",
            "197/197 [==============================] - 3s 15ms/step - loss: 0.6420 - accuracy: 0.8544\n",
            "Epoch 249/400\n",
            "197/197 [==============================] - 3s 15ms/step - loss: 0.6384 - accuracy: 0.8547\n",
            "Epoch 250/400\n",
            "197/197 [==============================] - 3s 14ms/step - loss: 0.6379 - accuracy: 0.8533\n",
            "Epoch 251/400\n",
            "197/197 [==============================] - 3s 13ms/step - loss: 0.6244 - accuracy: 0.8576\n",
            "Epoch 252/400\n",
            "197/197 [==============================] - 3s 13ms/step - loss: 0.6179 - accuracy: 0.8582\n",
            "Epoch 253/400\n",
            "197/197 [==============================] - 3s 14ms/step - loss: 0.6120 - accuracy: 0.8591\n",
            "Epoch 254/400\n",
            "197/197 [==============================] - 3s 15ms/step - loss: 0.6049 - accuracy: 0.8590\n",
            "Epoch 255/400\n",
            "197/197 [==============================] - 3s 14ms/step - loss: 0.5988 - accuracy: 0.8620\n",
            "Epoch 256/400\n",
            "197/197 [==============================] - 3s 14ms/step - loss: 0.5938 - accuracy: 0.8631\n",
            "Epoch 257/400\n",
            "197/197 [==============================] - 3s 14ms/step - loss: 0.5899 - accuracy: 0.8612\n",
            "Epoch 258/400\n",
            "197/197 [==============================] - 3s 14ms/step - loss: 0.5904 - accuracy: 0.8625\n",
            "Epoch 259/400\n",
            "197/197 [==============================] - 3s 15ms/step - loss: 0.6356 - accuracy: 0.8526\n",
            "Epoch 260/400\n",
            "197/197 [==============================] - 3s 14ms/step - loss: 0.6183 - accuracy: 0.8561\n",
            "Epoch 261/400\n",
            "197/197 [==============================] - 3s 13ms/step - loss: 0.5979 - accuracy: 0.8620\n",
            "Epoch 262/400\n",
            "197/197 [==============================] - 3s 14ms/step - loss: 0.5917 - accuracy: 0.8606\n",
            "Epoch 263/400\n",
            "197/197 [==============================] - 3s 14ms/step - loss: 0.5967 - accuracy: 0.8607\n",
            "Epoch 264/400\n",
            "197/197 [==============================] - 3s 15ms/step - loss: 0.5814 - accuracy: 0.8638\n",
            "Epoch 265/400\n",
            "197/197 [==============================] - 3s 14ms/step - loss: 0.5734 - accuracy: 0.8665\n",
            "Epoch 266/400\n",
            "197/197 [==============================] - 3s 14ms/step - loss: 0.5692 - accuracy: 0.8676\n",
            "Epoch 267/400\n",
            "197/197 [==============================] - 3s 14ms/step - loss: 0.5876 - accuracy: 0.8634\n",
            "Epoch 268/400\n",
            "197/197 [==============================] - 3s 13ms/step - loss: 0.5867 - accuracy: 0.8623\n",
            "Epoch 269/400\n",
            "197/197 [==============================] - 3s 14ms/step - loss: 0.5598 - accuracy: 0.8685\n",
            "Epoch 270/400\n",
            "197/197 [==============================] - 3s 14ms/step - loss: 0.5532 - accuracy: 0.8698\n",
            "Epoch 271/400\n",
            "197/197 [==============================] - 3s 13ms/step - loss: 0.5484 - accuracy: 0.8712\n",
            "Epoch 272/400\n",
            "197/197 [==============================] - 3s 13ms/step - loss: 0.5435 - accuracy: 0.8700\n",
            "Epoch 273/400\n",
            "197/197 [==============================] - 3s 15ms/step - loss: 0.5421 - accuracy: 0.8717\n",
            "Epoch 274/400\n",
            "197/197 [==============================] - 3s 14ms/step - loss: 0.5388 - accuracy: 0.8734\n",
            "Epoch 275/400\n",
            "197/197 [==============================] - 3s 13ms/step - loss: 0.5474 - accuracy: 0.8701\n",
            "Epoch 276/400\n",
            "197/197 [==============================] - 3s 14ms/step - loss: 0.5614 - accuracy: 0.8642\n",
            "Epoch 277/400\n",
            "197/197 [==============================] - 3s 14ms/step - loss: 0.5492 - accuracy: 0.8690\n",
            "Epoch 278/400\n",
            "197/197 [==============================] - 3s 14ms/step - loss: 0.5428 - accuracy: 0.8719\n",
            "Epoch 279/400\n",
            "197/197 [==============================] - 3s 14ms/step - loss: 0.5391 - accuracy: 0.8704\n",
            "Epoch 280/400\n",
            "197/197 [==============================] - 3s 14ms/step - loss: 0.5462 - accuracy: 0.8693\n",
            "Epoch 281/400\n",
            "197/197 [==============================] - 3s 14ms/step - loss: 0.5363 - accuracy: 0.8704\n",
            "Epoch 282/400\n",
            "197/197 [==============================] - 3s 14ms/step - loss: 0.5213 - accuracy: 0.8736\n",
            "Epoch 283/400\n",
            "197/197 [==============================] - 3s 15ms/step - loss: 0.5185 - accuracy: 0.8752\n",
            "Epoch 284/400\n",
            "197/197 [==============================] - 3s 15ms/step - loss: 0.5132 - accuracy: 0.8758\n",
            "Epoch 285/400\n",
            "197/197 [==============================] - 3s 14ms/step - loss: 0.5129 - accuracy: 0.8768\n",
            "Epoch 286/400\n",
            "197/197 [==============================] - 3s 14ms/step - loss: 0.5342 - accuracy: 0.8680\n",
            "Epoch 287/400\n",
            "197/197 [==============================] - 3s 15ms/step - loss: 0.5316 - accuracy: 0.8706\n",
            "Epoch 288/400\n",
            "197/197 [==============================] - 3s 15ms/step - loss: 0.5221 - accuracy: 0.8738\n",
            "Epoch 289/400\n",
            "197/197 [==============================] - 3s 14ms/step - loss: 0.5193 - accuracy: 0.8750\n",
            "Epoch 290/400\n",
            "197/197 [==============================] - 3s 14ms/step - loss: 0.5290 - accuracy: 0.8715\n",
            "Epoch 291/400\n",
            "197/197 [==============================] - 3s 14ms/step - loss: 0.5142 - accuracy: 0.8755\n",
            "Epoch 292/400\n",
            "197/197 [==============================] - 3s 14ms/step - loss: 0.5205 - accuracy: 0.8739\n",
            "Epoch 293/400\n",
            "197/197 [==============================] - 3s 15ms/step - loss: 0.5356 - accuracy: 0.8690\n",
            "Epoch 294/400\n",
            "197/197 [==============================] - 3s 13ms/step - loss: 0.5086 - accuracy: 0.8765\n",
            "Epoch 295/400\n",
            "197/197 [==============================] - 3s 14ms/step - loss: 0.4954 - accuracy: 0.8777\n",
            "Epoch 296/400\n",
            "197/197 [==============================] - 3s 13ms/step - loss: 0.4907 - accuracy: 0.8806\n",
            "Epoch 297/400\n",
            "197/197 [==============================] - 3s 15ms/step - loss: 0.4930 - accuracy: 0.8800\n",
            "Epoch 298/400\n",
            "197/197 [==============================] - 3s 15ms/step - loss: 0.4867 - accuracy: 0.8797\n",
            "Epoch 299/400\n",
            "197/197 [==============================] - 3s 14ms/step - loss: 0.4814 - accuracy: 0.8785\n",
            "Epoch 300/400\n",
            "197/197 [==============================] - 3s 14ms/step - loss: 0.4824 - accuracy: 0.8831\n",
            "Epoch 301/400\n",
            "197/197 [==============================] - 3s 15ms/step - loss: 0.4835 - accuracy: 0.8787\n",
            "Epoch 302/400\n",
            "197/197 [==============================] - 3s 16ms/step - loss: 0.4862 - accuracy: 0.8822\n",
            "Epoch 303/400\n",
            "197/197 [==============================] - 3s 14ms/step - loss: 0.4824 - accuracy: 0.8808\n",
            "Epoch 304/400\n",
            "197/197 [==============================] - 3s 13ms/step - loss: 0.4939 - accuracy: 0.8798\n",
            "Epoch 305/400\n",
            "197/197 [==============================] - 3s 14ms/step - loss: 0.5266 - accuracy: 0.8717\n",
            "Epoch 306/400\n",
            "197/197 [==============================] - 3s 14ms/step - loss: 0.4907 - accuracy: 0.8754\n",
            "Epoch 307/400\n",
            "197/197 [==============================] - 3s 14ms/step - loss: 0.4846 - accuracy: 0.8800\n",
            "Epoch 308/400\n",
            "197/197 [==============================] - 3s 14ms/step - loss: 0.4751 - accuracy: 0.8817\n",
            "Epoch 309/400\n",
            "197/197 [==============================] - 3s 14ms/step - loss: 0.4655 - accuracy: 0.8819\n",
            "Epoch 310/400\n",
            "197/197 [==============================] - 3s 14ms/step - loss: 0.4644 - accuracy: 0.8830\n",
            "Epoch 311/400\n",
            "197/197 [==============================] - 3s 14ms/step - loss: 0.4652 - accuracy: 0.8833\n",
            "Epoch 312/400\n",
            "197/197 [==============================] - 3s 14ms/step - loss: 0.4796 - accuracy: 0.8790\n",
            "Epoch 313/400\n",
            "197/197 [==============================] - 3s 14ms/step - loss: 0.4833 - accuracy: 0.8771\n",
            "Epoch 314/400\n",
            "197/197 [==============================] - 3s 14ms/step - loss: 0.4660 - accuracy: 0.8819\n",
            "Epoch 315/400\n",
            "197/197 [==============================] - 3s 13ms/step - loss: 0.4581 - accuracy: 0.8843\n",
            "Epoch 316/400\n",
            "197/197 [==============================] - 3s 15ms/step - loss: 0.4506 - accuracy: 0.8839\n",
            "Epoch 317/400\n",
            "197/197 [==============================] - 3s 14ms/step - loss: 0.4462 - accuracy: 0.8865\n",
            "Epoch 318/400\n",
            "197/197 [==============================] - 3s 14ms/step - loss: 0.4487 - accuracy: 0.8873\n",
            "Epoch 319/400\n",
            "197/197 [==============================] - 3s 14ms/step - loss: 0.4396 - accuracy: 0.8870\n",
            "Epoch 320/400\n",
            "197/197 [==============================] - 3s 14ms/step - loss: 0.4364 - accuracy: 0.8874\n",
            "Epoch 321/400\n",
            "197/197 [==============================] - 3s 14ms/step - loss: 0.4395 - accuracy: 0.8862\n",
            "Epoch 322/400\n",
            "197/197 [==============================] - 3s 14ms/step - loss: 0.4390 - accuracy: 0.8874\n",
            "Epoch 323/400\n",
            "197/197 [==============================] - 3s 14ms/step - loss: 0.4401 - accuracy: 0.8868\n",
            "Epoch 324/400\n",
            "197/197 [==============================] - 3s 14ms/step - loss: 0.4375 - accuracy: 0.8876\n",
            "Epoch 325/400\n",
            "197/197 [==============================] - 3s 15ms/step - loss: 0.4365 - accuracy: 0.8878\n",
            "Epoch 326/400\n",
            "197/197 [==============================] - 3s 14ms/step - loss: 0.4427 - accuracy: 0.8860\n",
            "Epoch 327/400\n",
            "197/197 [==============================] - 3s 13ms/step - loss: 0.4357 - accuracy: 0.8865\n",
            "Epoch 328/400\n",
            "197/197 [==============================] - 3s 14ms/step - loss: 0.4374 - accuracy: 0.8863\n",
            "Epoch 329/400\n",
            "197/197 [==============================] - 3s 15ms/step - loss: 0.4410 - accuracy: 0.8838\n",
            "Epoch 330/400\n",
            "197/197 [==============================] - 3s 14ms/step - loss: 0.4366 - accuracy: 0.8868\n",
            "Epoch 331/400\n",
            "197/197 [==============================] - 3s 14ms/step - loss: 0.4673 - accuracy: 0.8793\n",
            "Epoch 332/400\n",
            "197/197 [==============================] - 3s 14ms/step - loss: 0.4493 - accuracy: 0.8817\n",
            "Epoch 333/400\n",
            "197/197 [==============================] - 3s 14ms/step - loss: 0.4345 - accuracy: 0.8859\n",
            "Epoch 334/400\n",
            "197/197 [==============================] - 3s 15ms/step - loss: 0.4361 - accuracy: 0.8887\n",
            "Epoch 335/400\n",
            "197/197 [==============================] - 3s 15ms/step - loss: 0.5401 - accuracy: 0.8636\n",
            "Epoch 336/400\n",
            "197/197 [==============================] - 3s 14ms/step - loss: 0.4535 - accuracy: 0.8817\n",
            "Epoch 337/400\n",
            "197/197 [==============================] - 3s 14ms/step - loss: 0.4270 - accuracy: 0.8892\n",
            "Epoch 338/400\n",
            "197/197 [==============================] - 3s 14ms/step - loss: 0.4145 - accuracy: 0.8890\n",
            "Epoch 339/400\n",
            "197/197 [==============================] - 3s 15ms/step - loss: 0.4085 - accuracy: 0.8921\n",
            "Epoch 340/400\n",
            "197/197 [==============================] - 3s 14ms/step - loss: 0.4039 - accuracy: 0.8922\n",
            "Epoch 341/400\n",
            "197/197 [==============================] - 3s 13ms/step - loss: 0.4016 - accuracy: 0.8924\n",
            "Epoch 342/400\n",
            "197/197 [==============================] - 3s 14ms/step - loss: 0.3981 - accuracy: 0.8932\n",
            "Epoch 343/400\n",
            "197/197 [==============================] - 3s 14ms/step - loss: 0.4009 - accuracy: 0.8954\n",
            "Epoch 344/400\n",
            "197/197 [==============================] - 3s 14ms/step - loss: 0.3963 - accuracy: 0.8935\n",
            "Epoch 345/400\n",
            "197/197 [==============================] - 3s 13ms/step - loss: 0.3944 - accuracy: 0.8946\n",
            "Epoch 346/400\n",
            "197/197 [==============================] - 3s 13ms/step - loss: 0.3989 - accuracy: 0.8921\n",
            "Epoch 347/400\n",
            "197/197 [==============================] - 3s 14ms/step - loss: 0.3998 - accuracy: 0.8917\n",
            "Epoch 348/400\n",
            "197/197 [==============================] - 3s 14ms/step - loss: 0.3966 - accuracy: 0.8924\n",
            "Epoch 349/400\n",
            "197/197 [==============================] - 3s 15ms/step - loss: 0.4026 - accuracy: 0.8917\n",
            "Epoch 350/400\n",
            "197/197 [==============================] - 3s 14ms/step - loss: 0.4084 - accuracy: 0.8887\n",
            "Epoch 351/400\n",
            "197/197 [==============================] - 3s 14ms/step - loss: 0.4505 - accuracy: 0.8808\n",
            "Epoch 352/400\n",
            "197/197 [==============================] - 3s 14ms/step - loss: 0.4219 - accuracy: 0.8854\n",
            "Epoch 353/400\n",
            "197/197 [==============================] - 3s 14ms/step - loss: 0.4051 - accuracy: 0.8917\n",
            "Epoch 354/400\n",
            "197/197 [==============================] - 3s 14ms/step - loss: 0.3990 - accuracy: 0.8913\n",
            "Epoch 355/400\n",
            "197/197 [==============================] - 3s 14ms/step - loss: 0.3922 - accuracy: 0.8924\n",
            "Epoch 356/400\n",
            "197/197 [==============================] - 3s 14ms/step - loss: 0.3815 - accuracy: 0.8957\n",
            "Epoch 357/400\n",
            "197/197 [==============================] - 3s 15ms/step - loss: 0.3767 - accuracy: 0.8957\n",
            "Epoch 358/400\n",
            "197/197 [==============================] - 3s 15ms/step - loss: 0.3738 - accuracy: 0.8979\n",
            "Epoch 359/400\n",
            "197/197 [==============================] - 3s 15ms/step - loss: 0.3742 - accuracy: 0.8952\n",
            "Epoch 360/400\n",
            "197/197 [==============================] - 3s 14ms/step - loss: 0.3719 - accuracy: 0.8965\n",
            "Epoch 361/400\n",
            "197/197 [==============================] - 3s 14ms/step - loss: 0.3747 - accuracy: 0.9003\n",
            "Epoch 362/400\n",
            "197/197 [==============================] - 3s 14ms/step - loss: 0.3758 - accuracy: 0.8963\n",
            "Epoch 363/400\n",
            "197/197 [==============================] - 3s 15ms/step - loss: 0.3844 - accuracy: 0.8930\n",
            "Epoch 364/400\n",
            "197/197 [==============================] - 3s 14ms/step - loss: 0.4018 - accuracy: 0.8901\n",
            "Epoch 365/400\n",
            "197/197 [==============================] - 3s 14ms/step - loss: 0.3869 - accuracy: 0.8914\n",
            "Epoch 366/400\n",
            "197/197 [==============================] - 3s 14ms/step - loss: 0.4064 - accuracy: 0.8882\n",
            "Epoch 367/400\n",
            "197/197 [==============================] - 3s 14ms/step - loss: 0.3949 - accuracy: 0.8914\n",
            "Epoch 368/400\n",
            "197/197 [==============================] - 3s 14ms/step - loss: 0.3846 - accuracy: 0.8948\n",
            "Epoch 369/400\n",
            "197/197 [==============================] - 3s 14ms/step - loss: 0.3755 - accuracy: 0.8954\n",
            "Epoch 370/400\n",
            "197/197 [==============================] - 3s 14ms/step - loss: 0.3692 - accuracy: 0.8957\n",
            "Epoch 371/400\n",
            "197/197 [==============================] - 3s 14ms/step - loss: 0.3639 - accuracy: 0.8978\n",
            "Epoch 372/400\n",
            "197/197 [==============================] - 3s 16ms/step - loss: 0.3638 - accuracy: 0.8965\n",
            "Epoch 373/400\n",
            "197/197 [==============================] - 3s 14ms/step - loss: 0.3591 - accuracy: 0.8995\n",
            "Epoch 374/400\n",
            "197/197 [==============================] - 3s 13ms/step - loss: 0.3567 - accuracy: 0.8989\n",
            "Epoch 375/400\n",
            "197/197 [==============================] - 3s 14ms/step - loss: 0.3599 - accuracy: 0.8986\n",
            "Epoch 376/400\n",
            "197/197 [==============================] - 3s 14ms/step - loss: 0.3885 - accuracy: 0.8917\n",
            "Epoch 377/400\n",
            "197/197 [==============================] - 3s 15ms/step - loss: 0.4063 - accuracy: 0.8911\n",
            "Epoch 378/400\n",
            "197/197 [==============================] - 3s 14ms/step - loss: 0.3745 - accuracy: 0.8962\n",
            "Epoch 379/400\n",
            "197/197 [==============================] - 3s 14ms/step - loss: 0.3668 - accuracy: 0.8952\n",
            "Epoch 380/400\n",
            "197/197 [==============================] - 3s 14ms/step - loss: 0.3569 - accuracy: 0.8971\n",
            "Epoch 381/400\n",
            "197/197 [==============================] - 3s 14ms/step - loss: 0.3525 - accuracy: 0.9005\n",
            "Epoch 382/400\n",
            "197/197 [==============================] - 3s 15ms/step - loss: 0.3489 - accuracy: 0.9008\n",
            "Epoch 383/400\n",
            "197/197 [==============================] - 3s 14ms/step - loss: 0.3476 - accuracy: 0.8987\n",
            "Epoch 384/400\n",
            "197/197 [==============================] - 3s 14ms/step - loss: 0.3457 - accuracy: 0.8995\n",
            "Epoch 385/400\n",
            "197/197 [==============================] - 3s 14ms/step - loss: 0.3443 - accuracy: 0.8994\n",
            "Epoch 386/400\n",
            "197/197 [==============================] - 3s 14ms/step - loss: 0.3475 - accuracy: 0.9013\n",
            "Epoch 387/400\n",
            "197/197 [==============================] - 3s 15ms/step - loss: 0.3483 - accuracy: 0.9040\n",
            "Epoch 388/400\n",
            "197/197 [==============================] - 3s 14ms/step - loss: 0.3513 - accuracy: 0.8995\n",
            "Epoch 389/400\n",
            "197/197 [==============================] - 3s 13ms/step - loss: 0.3550 - accuracy: 0.8981\n",
            "Epoch 390/400\n",
            "197/197 [==============================] - 3s 14ms/step - loss: 0.3599 - accuracy: 0.8968\n",
            "Epoch 391/400\n",
            "197/197 [==============================] - 3s 14ms/step - loss: 0.3602 - accuracy: 0.9000\n",
            "Epoch 392/400\n",
            "197/197 [==============================] - 3s 15ms/step - loss: 0.3701 - accuracy: 0.8960\n",
            "Epoch 393/400\n",
            "197/197 [==============================] - 3s 14ms/step - loss: 0.3519 - accuracy: 0.9024\n",
            "Epoch 394/400\n",
            "197/197 [==============================] - 3s 14ms/step - loss: 0.3462 - accuracy: 0.8994\n",
            "Epoch 395/400\n",
            "197/197 [==============================] - 3s 14ms/step - loss: 0.3439 - accuracy: 0.8986\n",
            "Epoch 396/400\n",
            "197/197 [==============================] - 3s 14ms/step - loss: 0.3428 - accuracy: 0.9002\n",
            "Epoch 397/400\n",
            "197/197 [==============================] - 3s 14ms/step - loss: 0.3484 - accuracy: 0.8998\n",
            "Epoch 398/400\n",
            "197/197 [==============================] - 3s 15ms/step - loss: 0.3396 - accuracy: 0.9006\n",
            "Epoch 399/400\n",
            "197/197 [==============================] - 3s 15ms/step - loss: 0.3366 - accuracy: 0.9019\n",
            "Epoch 400/400\n",
            "197/197 [==============================] - 3s 14ms/step - loss: 0.3323 - accuracy: 0.9021\n"
          ],
          "name": "stdout"
        }
      ]
    },
    {
      "cell_type": "code",
      "metadata": {
        "id": "34KgrtJodNq1",
        "outputId": "701f6791-edf6-460e-fc6b-9a342c44af32",
        "colab": {
          "base_uri": "https://localhost:8080/",
          "height": 541
        }
      },
      "source": [
        "import matplotlib.pyplot as plt\n",
        "\n",
        "\n",
        "def plot_graphs(history, string):\n",
        "  plt.plot(history.history[string])\n",
        "  plt.xlabel(\"Epochs\")\n",
        "  plt.ylabel(string)\n",
        "  plt.show()\n",
        "plot_graphs(history, 'accuracy')\n",
        "plot_graphs(history,'loss')"
      ],
      "execution_count": 84,
      "outputs": [
        {
          "output_type": "display_data",
          "data": {
            "image/png": "[encoded data removed]",
            "text/plain": [
              "<Figure size 432x288 with 1 Axes>"
            ]
          },
          "metadata": {
            "tags": [],
            "needs_background": "light"
          }
        },
        {
          "output_type": "display_data",
          "data": {
            "image/png": "[encoded data removed]",
            "text/plain": [
              "<Figure size 432x288 with 1 Axes>"
            ]
          },
          "metadata": {
            "tags": [],
            "needs_background": "light"
          }
        }
      ]
    },
    {
      "cell_type": "code",
      "metadata": {
        "id": "fYchY-VRdSFQ",
        "outputId": "47e5b526-976c-4568-e50a-284e72c66f02",
        "colab": {
          "base_uri": "https://localhost:8080/"
        }
      },
      "source": [
        "seed_text =\"حافظ گر به دیده\"\n",
        "next_words = 5\n",
        "  \n",
        "for _ in range(next_words):\n",
        "\ttoken_list = tokenizer.texts_to_sequences([seed_text])[0]\n",
        "\ttoken_list = pad_sequences([token_list], maxlen=max_sequence_len-1, padding='pre')\n",
        "\tpredicted = model.predict_classes(token_list, verbose=0)\n",
        "\toutput_word = \"\"\n",
        "\tfor word, index in tokenizer.word_index.items():\n",
        "\t\tif index == predicted:\n",
        "\t\t\toutput_word = word\n",
        "\t\t\tbreak\n",
        "\tseed_text += \" \" + output_word\n",
        "print(seed_text)\n",
        "seed_text =\"شراب ناب و یار من \"\n",
        "next_words = 5\n",
        "  \n",
        "for _ in range(next_words):\n",
        "\ttoken_list = tokenizer.texts_to_sequences([seed_text])[0]\n",
        "\ttoken_list = pad_sequences([token_list], maxlen=max_sequence_len-1, padding='pre')\n",
        "\tpredicted = model.predict_classes(token_list, verbose=0)\n",
        "\toutput_word = \"\"\n",
        "\tfor word, index in tokenizer.word_index.items():\n",
        "\t\tif index == predicted:\n",
        "\t\t\toutput_word = word\n",
        "\t\t\tbreak\n",
        "\tseed_text += \" \" + output_word\n",
        "print(seed_text)"
      ],
      "execution_count": 91,
      "outputs": [
        {
          "output_type": "stream",
          "text": [
            "حافظ گر به دیده جوانان چمن بازرسی شهره نماندست\n",
            "شراب ناب و یار من  اين خسته اين دانست شما\n"
          ],
          "name": "stdout"
        }
      ]
    },
    {
      "cell_type": "markdown",
      "metadata": {
        "id": "oGGavxvJlAxN"
      },
      "source": [
        "# Predict poet from the context (Hafiz, Ferdowsi, Akhavan ) "
      ]
    },
    {
      "cell_type": "code",
      "metadata": {
        "id": "TMBuyRUDmCbP"
      },
      "source": [
        "import tensorflow as tf\n",
        "\n",
        "from tensorflow.keras.preprocessing.sequence import pad_sequences\n",
        "from tensorflow.keras.layers import Embedding, LSTM, Dense, Bidirectional\n",
        "from tensorflow.keras.preprocessing.text import Tokenizer\n",
        "from tensorflow.keras.models import Sequential\n",
        "from tensorflow.keras.optimizers import Adam\n",
        "import numpy as np "
      ],
      "execution_count": null,
      "outputs": []
    },
    {
      "cell_type": "code",
      "metadata": {
        "id": "Yelw2Vv-pP8b",
        "outputId": "e75ac15e-bf38-4434-ccb6-cfd79fd4c62f",
        "colab": {
          "base_uri": "https://localhost:8080/"
        }
      },
      "source": [
        "from google.colab import drive\n",
        "drive.mount('/content/drive')"
      ],
      "execution_count": null,
      "outputs": [
        {
          "output_type": "stream",
          "text": [
            "Drive already mounted at /content/drive; to attempt to forcibly remount, call drive.mount(\"/content/drive\", force_remount=True).\n"
          ],
          "name": "stdout"
        }
      ]
    },
    {
      "cell_type": "code",
      "metadata": {
        "id": "0G53EotRpYSV"
      },
      "source": [
        "data_Ferdowsi = open('/content/drive/My Drive/Hafez/Ferdowsi_text.txt').read()\n",
        "data_Akhavan = open('/content/drive/My Drive/Hafez/Akhavan_Text_2.txt').read()\n",
        "data_hafiz = open('/content/drive/My Drive/Hafez/Hafiz_tex.txt').read()"
      ],
      "execution_count": 3,
      "outputs": []
    },
    {
      "cell_type": "code",
      "metadata": {
        "id": "q8Yl-6Rxpg_v"
      },
      "source": [
        "corpus_Ferdowsi = data_Ferdowsi.lower().replace('\\n','').replace('\\t','').replace(']','').replace('[','').replace('\\u200f','').split(\"  \")\n",
        "corpus_Hafiz = data_hafiz.lower().replace('\\t','').replace('\\u200c','').split(\"\\n\")\n",
        "corpus_Akhavan = data_Akhavan.lower().replace('\\t','').replace('\\u200c','').split(\"\\n\")\n"
      ],
      "execution_count": 4,
      "outputs": []
    },
    {
      "cell_type": "code",
      "metadata": {
        "id": "dRXIARsbrJfe"
      },
      "source": [
        "embedding_dim = 20\n",
        "trunc_type='post'\n",
        "padding_type='post'\n",
        "oov_tok = \"<OOV>\"\n",
        "test_portion=.1\n"
      ],
      "execution_count": 5,
      "outputs": []
    },
    {
      "cell_type": "code",
      "metadata": {
        "id": "Q-qbBGZ-plgM"
      },
      "source": [
        "dictionary={}\n",
        "corpus_update=[]\n",
        "for i in corpus_Ferdowsi:\n",
        "  if len(i)>10:\n",
        "    corpus_update.append(i)\n",
        "for i in corpus_update:\n",
        "    dictionary[i]='Ferdowsi'\n",
        "corpus_update=[]\n",
        "for i in corpus_Hafiz:\n",
        "  if len(i)>10:\n",
        "    corpus_update.append(i)\n",
        "for i in corpus_update:\n",
        "    dictionary[i]='Hafiz'\n",
        "corpus_update=[]\n",
        "for i in corpus_Akhavan:\n",
        "  if len(i)>10:\n",
        "    corpus_update.append(i)\n",
        "for i in corpus_update:\n",
        "    dictionary[i]='Akhavan'"
      ],
      "execution_count": 6,
      "outputs": []
    },
    {
      "cell_type": "code",
      "metadata": {
        "id": "9HhY3JWuSa3Z",
        "outputId": "a4246b86-8f75-4380-ae97-36c1074c7607",
        "colab": {
          "base_uri": "https://localhost:8080/"
        }
      },
      "source": [
        "df=pd.DataFrame.from_dict(dictionary,orient='index')\n",
        "df['Sentence']=df.index\n",
        "df=df.reset_index()\n",
        "df=df.rename(columns={0:'Poet'})\n",
        "final_table=df[['Poet','Sentence']]\n",
        "df['Poet'].value_counts()"
      ],
      "execution_count": 7,
      "outputs": [
        {
          "output_type": "execute_result",
          "data": {
            "text/plain": [
              "Akhavan     1273\n",
              "Ferdowsi    1199\n",
              "Hafiz        955\n",
              "Name: Poet, dtype: int64"
            ]
          },
          "metadata": {
            "tags": []
          },
          "execution_count": 7
        }
      ]
    },
    {
      "cell_type": "code",
      "metadata": {
        "id": "cJo902lyehY8"
      },
      "source": [
        "final_table = final_table.sample(frac=1).reset_index(drop=True)"
      ],
      "execution_count": 8,
      "outputs": []
    },
    {
      "cell_type": "code",
      "metadata": {
        "id": "eGKCDfGcuf6S",
        "outputId": "c5a9c6a5-e165-4cfe-8d20-0327061d2142",
        "colab": {
          "base_uri": "https://localhost:8080/",
          "height": 419
        }
      },
      "source": [
        "final_table"
      ],
      "execution_count": 9,
      "outputs": [
        {
          "output_type": "execute_result",
          "data": {
            "text/html": [
              "<div>\n",
              "<style scoped>\n",
              "    .dataframe tbody tr th:only-of-type {\n",
              "        vertical-align: middle;\n",
              "    }\n",
              "\n",
              "    .dataframe tbody tr th {\n",
              "        vertical-align: top;\n",
              "    }\n",
              "\n",
              "    .dataframe thead th {\n",
              "        text-align: right;\n",
              "    }\n",
              "</style>\n",
              "<table border=\"1\" class=\"dataframe\">\n",
              "  <thead>\n",
              "    <tr style=\"text-align: right;\">\n",
              "      <th></th>\n",
              "      <th>Poet</th>\n",
              "      <th>Sentence</th>\n",
              "    </tr>\n",
              "  </thead>\n",
              "  <tbody>\n",
              "    <tr>\n",
              "      <th>0</th>\n",
              "      <td>Ferdowsi</td>\n",
              "      <td>چنانست گيتى كجا خواستم</td>\n",
              "    </tr>\n",
              "    <tr>\n",
              "      <th>1</th>\n",
              "      <td>Hafiz</td>\n",
              "      <td>روزی تفقدی کن درويش بینوا را</td>\n",
              "    </tr>\n",
              "    <tr>\n",
              "      <th>2</th>\n",
              "      <td>Ferdowsi</td>\n",
              "      <td>ندارد كس آن روزگاران بياد</td>\n",
              "    </tr>\n",
              "    <tr>\n",
              "      <th>3</th>\n",
              "      <td>Akhavan</td>\n",
              "      <td>ﯾﺎ آن ﺳﺘﺎره ﺑﻮد ﮐﻪ ﯾﮏ ﻟﻤﺤﻪ زاد و ﻣﺮد</td>\n",
              "    </tr>\n",
              "    <tr>\n",
              "      <th>4</th>\n",
              "      <td>Hafiz</td>\n",
              "      <td>نه من ز بی عملی در جهان ملولم و بس</td>\n",
              "    </tr>\n",
              "    <tr>\n",
              "      <th>...</th>\n",
              "      <td>...</td>\n",
              "      <td>...</td>\n",
              "    </tr>\n",
              "    <tr>\n",
              "      <th>3422</th>\n",
              "      <td>Ferdowsi</td>\n",
              "      <td>همه نيكيت بايد آغاز كرد</td>\n",
              "    </tr>\n",
              "    <tr>\n",
              "      <th>3423</th>\n",
              "      <td>Ferdowsi</td>\n",
              "      <td>يكى نامور نامه افكند بن</td>\n",
              "    </tr>\n",
              "    <tr>\n",
              "      <th>3424</th>\n",
              "      <td>Hafiz</td>\n",
              "      <td>غزل گفتی و در سفتی بيا و خوش بخوان حافظ</td>\n",
              "    </tr>\n",
              "    <tr>\n",
              "      <th>3425</th>\n",
              "      <td>Akhavan</td>\n",
              "      <td>آن ﭘﺎﮐﯽ و زﻻﻟﯽ ﻟﺒﺨﻨﺪ در ﺗﻮ ﻧﯿﺴﺖ</td>\n",
              "    </tr>\n",
              "    <tr>\n",
              "      <th>3426</th>\n",
              "      <td>Ferdowsi</td>\n",
              "      <td>و زويت فزونى و زويت كميست</td>\n",
              "    </tr>\n",
              "  </tbody>\n",
              "</table>\n",
              "<p>3427 rows × 2 columns</p>\n",
              "</div>"
            ],
            "text/plain": [
              "          Poet                                 Sentence\n",
              "0     Ferdowsi                   چنانست گيتى كجا خواستم\n",
              "1        Hafiz             روزی تفقدی کن درويش بینوا را\n",
              "2     Ferdowsi                ندارد كس آن روزگاران بياد\n",
              "3      Akhavan     ﯾﺎ آن ﺳﺘﺎره ﺑﻮد ﮐﻪ ﯾﮏ ﻟﻤﺤﻪ زاد و ﻣﺮد\n",
              "4        Hafiz       نه من ز بی عملی در جهان ملولم و بس\n",
              "...        ...                                      ...\n",
              "3422  Ferdowsi                  همه نيكيت بايد آغاز كرد\n",
              "3423  Ferdowsi                  يكى نامور نامه افكند بن\n",
              "3424     Hafiz  غزل گفتی و در سفتی بيا و خوش بخوان حافظ\n",
              "3425   Akhavan          آن ﭘﺎﮐﯽ و زﻻﻟﯽ ﻟﺒﺨﻨﺪ در ﺗﻮ ﻧﯿﺴﺖ\n",
              "3426  Ferdowsi                و زويت فزونى و زويت كميست\n",
              "\n",
              "[3427 rows x 2 columns]"
            ]
          },
          "metadata": {
            "tags": []
          },
          "execution_count": 9
        }
      ]
    },
    {
      "cell_type": "code",
      "metadata": {
        "id": "jlNLjAfzrcq5"
      },
      "source": [
        "Full_Corpus=final_table['Sentence']\n",
        "corpus_update_Full=[]\n",
        "for i in Full_Corpus:\n",
        "  if len(i)>10:\n",
        "    corpus_update_Full.append(i)"
      ],
      "execution_count": 10,
      "outputs": []
    },
    {
      "cell_type": "code",
      "metadata": {
        "id": "XvnvInLou2QP"
      },
      "source": [
        "sentences=[]\n",
        "labels=[]\n",
        "for i in range (len(final_table)):\n",
        "  sentences.append(final_table['Sentence'][i])\n",
        "  if (final_table['Poet'][i]=='Hafiz'):\n",
        "    labels.append(0)\n",
        "  if (final_table['Poet'][i]=='Ferdowsi'):\n",
        "    labels.append(1)\n",
        "  if (final_table['Poet'][i]=='Akhavan'):\n",
        "    labels.append(2)"
      ],
      "execution_count": 12,
      "outputs": []
    },
    {
      "cell_type": "code",
      "metadata": {
        "id": "ZrOS0OQK8Rfb",
        "outputId": "d6df626e-414d-4b28-a083-8c5858522caa",
        "colab": {
          "base_uri": "https://localhost:8080/"
        }
      },
      "source": [
        "import tensorflow.keras.utils as ku \n",
        "label = ku.to_categorical(labels, num_classes=3)\n",
        "label"
      ],
      "execution_count": 14,
      "outputs": [
        {
          "output_type": "execute_result",
          "data": {
            "text/plain": [
              "array([[0., 1., 0.],\n",
              "       [1., 0., 0.],\n",
              "       [0., 1., 0.],\n",
              "       ...,\n",
              "       [1., 0., 0.],\n",
              "       [0., 0., 1.],\n",
              "       [0., 1., 0.]], dtype=float32)"
            ]
          },
          "metadata": {
            "tags": []
          },
          "execution_count": 14
        }
      ]
    },
    {
      "cell_type": "code",
      "metadata": {
        "id": "PbmKTDKbv4Vc"
      },
      "source": [
        "tokenizer = Tokenizer()\n",
        "tokenizer.fit_on_texts(sentences)\n",
        "\n",
        "word_index = tokenizer.word_index\n",
        "vocab_size=len(word_index)\n",
        "\n",
        "sequences = tokenizer.texts_to_sequences(sentences)\n",
        "max_length = max([len(x) for x in sequences])\n",
        "\n",
        "padded = pad_sequences(sequences, maxlen=8, padding=padding_type, truncating=trunc_type)\n",
        "\n",
        "split = int(test_portion * len(final_table))\n",
        "\n",
        "test_sequences = padded[0:split]\n",
        "training_sequences = padded[split:len(final_table)]\n",
        "test_labels = label[0:split]\n",
        "training_labels = label[split:len(final_table)]"
      ],
      "execution_count": 40,
      "outputs": []
    },
    {
      "cell_type": "code",
      "metadata": {
        "id": "_-b6r9ikAgMC",
        "outputId": "45902cec-3d9b-4bac-e477-7742b8eca36b",
        "colab": {
          "base_uri": "https://localhost:8080/"
        }
      },
      "source": [
        "max_length"
      ],
      "execution_count": 19,
      "outputs": [
        {
          "output_type": "execute_result",
          "data": {
            "text/plain": [
              "40"
            ]
          },
          "metadata": {
            "tags": []
          },
          "execution_count": 19
        }
      ]
    },
    {
      "cell_type": "code",
      "metadata": {
        "id": "tYMiItOSwyKD",
        "outputId": "903cf833-c069-4dfc-d129-b89e66580153",
        "colab": {
          "base_uri": "https://localhost:8080/"
        }
      },
      "source": [
        "model = tf.keras.Sequential([\n",
        "    tf.keras.layers.Embedding(vocab_size+1, embedding_dim, input_length=8),\n",
        "    tf.keras.layers.Dropout(0.2),\n",
        "    tf.keras.layers.Conv1D(32, 5, activation='relu'),\n",
        "    tf.keras.layers.MaxPooling1D(pool_size=4),\n",
        "    tf.keras.layers.Bidirectional(LSTM(32,return_sequences=True)),\n",
        "    tf.keras.layers.Bidirectional(LSTM(32)),\n",
        "    tf.keras.layers.Dense(3, activation='softmax')\n",
        "])\n",
        "model.compile(\n",
        "    optimizer='adam',\n",
        "    loss='categorical_crossentropy',\n",
        "    metrics=['accuracy'])\n",
        "\n",
        "num_epochs = 40\n",
        "\n",
        "training_padded = np.array(training_sequences)\n",
        "training_labels = np.array(training_labels)\n",
        "testing_padded = np.array(test_sequences)\n",
        "testing_labels = np.array(test_labels)\n",
        "\n",
        "history = model.fit(training_padded, training_labels, epochs=num_epochs, validation_data=(testing_padded, testing_labels), verbose=1)\n"
      ],
      "execution_count": 72,
      "outputs": [
        {
          "output_type": "stream",
          "text": [
            "Epoch 1/40\n",
            "97/97 [==============================] - 2s 19ms/step - loss: 1.0297 - accuracy: 0.4551 - val_loss: 0.8772 - val_accuracy: 0.7310\n",
            "Epoch 2/40\n",
            "97/97 [==============================] - 1s 6ms/step - loss: 0.4123 - accuracy: 0.8814 - val_loss: 0.2433 - val_accuracy: 0.9181\n",
            "Epoch 3/40\n",
            "97/97 [==============================] - 1s 7ms/step - loss: 0.0700 - accuracy: 0.9802 - val_loss: 0.1586 - val_accuracy: 0.9503\n",
            "Epoch 4/40\n",
            "97/97 [==============================] - 1s 7ms/step - loss: 0.0210 - accuracy: 0.9942 - val_loss: 0.1495 - val_accuracy: 0.9561\n",
            "Epoch 5/40\n",
            "97/97 [==============================] - 1s 8ms/step - loss: 0.0064 - accuracy: 0.9994 - val_loss: 0.1562 - val_accuracy: 0.9649\n",
            "Epoch 6/40\n",
            "97/97 [==============================] - 1s 6ms/step - loss: 0.0037 - accuracy: 0.9997 - val_loss: 0.1836 - val_accuracy: 0.9503\n",
            "Epoch 7/40\n",
            "97/97 [==============================] - 1s 6ms/step - loss: 0.0014 - accuracy: 0.9997 - val_loss: 0.1948 - val_accuracy: 0.9503\n",
            "Epoch 8/40\n",
            "97/97 [==============================] - 1s 7ms/step - loss: 7.2574e-04 - accuracy: 1.0000 - val_loss: 0.1948 - val_accuracy: 0.9444\n",
            "Epoch 9/40\n",
            "97/97 [==============================] - 1s 6ms/step - loss: 5.2306e-04 - accuracy: 1.0000 - val_loss: 0.1948 - val_accuracy: 0.9503\n",
            "Epoch 10/40\n",
            "97/97 [==============================] - 1s 7ms/step - loss: 5.9705e-04 - accuracy: 1.0000 - val_loss: 0.2332 - val_accuracy: 0.9357\n",
            "Epoch 11/40\n",
            "97/97 [==============================] - 1s 6ms/step - loss: 3.2421e-04 - accuracy: 1.0000 - val_loss: 0.2251 - val_accuracy: 0.9503\n",
            "Epoch 12/40\n",
            "97/97 [==============================] - 1s 7ms/step - loss: 2.3852e-04 - accuracy: 1.0000 - val_loss: 0.2302 - val_accuracy: 0.9503\n",
            "Epoch 13/40\n",
            "97/97 [==============================] - 1s 6ms/step - loss: 2.5972e-04 - accuracy: 1.0000 - val_loss: 0.2291 - val_accuracy: 0.9474\n",
            "Epoch 14/40\n",
            "97/97 [==============================] - 1s 6ms/step - loss: 1.9837e-04 - accuracy: 1.0000 - val_loss: 0.2453 - val_accuracy: 0.9444\n",
            "Epoch 15/40\n",
            "97/97 [==============================] - 1s 6ms/step - loss: 7.3685e-04 - accuracy: 0.9997 - val_loss: 0.2591 - val_accuracy: 0.9474\n",
            "Epoch 16/40\n",
            "97/97 [==============================] - 1s 7ms/step - loss: 1.1517e-04 - accuracy: 1.0000 - val_loss: 0.2574 - val_accuracy: 0.9503\n",
            "Epoch 17/40\n",
            "97/97 [==============================] - 1s 8ms/step - loss: 8.6138e-05 - accuracy: 1.0000 - val_loss: 0.2610 - val_accuracy: 0.9474\n",
            "Epoch 18/40\n",
            "97/97 [==============================] - 1s 7ms/step - loss: 6.7665e-05 - accuracy: 1.0000 - val_loss: 0.2615 - val_accuracy: 0.9474\n",
            "Epoch 19/40\n",
            "97/97 [==============================] - 1s 7ms/step - loss: 2.8715e-04 - accuracy: 1.0000 - val_loss: 0.2416 - val_accuracy: 0.9444\n",
            "Epoch 20/40\n",
            "97/97 [==============================] - 1s 6ms/step - loss: 6.2132e-05 - accuracy: 1.0000 - val_loss: 0.2465 - val_accuracy: 0.9474\n",
            "Epoch 21/40\n",
            "97/97 [==============================] - 1s 6ms/step - loss: 5.0767e-05 - accuracy: 1.0000 - val_loss: 0.2575 - val_accuracy: 0.9474\n",
            "Epoch 22/40\n",
            "97/97 [==============================] - 1s 6ms/step - loss: 6.7144e-05 - accuracy: 1.0000 - val_loss: 0.2677 - val_accuracy: 0.9474\n",
            "Epoch 23/40\n",
            "97/97 [==============================] - 1s 6ms/step - loss: 4.1535e-05 - accuracy: 1.0000 - val_loss: 0.2788 - val_accuracy: 0.9474\n",
            "Epoch 24/40\n",
            "97/97 [==============================] - 1s 6ms/step - loss: 4.1583e-05 - accuracy: 1.0000 - val_loss: 0.2803 - val_accuracy: 0.9474\n",
            "Epoch 25/40\n",
            "97/97 [==============================] - 1s 7ms/step - loss: 2.7906e-05 - accuracy: 1.0000 - val_loss: 0.2833 - val_accuracy: 0.9474\n",
            "Epoch 26/40\n",
            "97/97 [==============================] - 1s 6ms/step - loss: 2.8463e-05 - accuracy: 1.0000 - val_loss: 0.2848 - val_accuracy: 0.9474\n",
            "Epoch 27/40\n",
            "97/97 [==============================] - 1s 7ms/step - loss: 2.6483e-05 - accuracy: 1.0000 - val_loss: 0.2885 - val_accuracy: 0.9474\n",
            "Epoch 28/40\n",
            "97/97 [==============================] - 1s 7ms/step - loss: 3.0992e-05 - accuracy: 1.0000 - val_loss: 0.3011 - val_accuracy: 0.9444\n",
            "Epoch 29/40\n",
            "97/97 [==============================] - 1s 6ms/step - loss: 2.9523e-05 - accuracy: 1.0000 - val_loss: 0.2951 - val_accuracy: 0.9474\n",
            "Epoch 30/40\n",
            "97/97 [==============================] - 1s 7ms/step - loss: 2.0841e-05 - accuracy: 1.0000 - val_loss: 0.2976 - val_accuracy: 0.9474\n",
            "Epoch 31/40\n",
            "97/97 [==============================] - 1s 7ms/step - loss: 3.4521e-05 - accuracy: 1.0000 - val_loss: 0.2913 - val_accuracy: 0.9474\n",
            "Epoch 32/40\n",
            "97/97 [==============================] - 1s 7ms/step - loss: 1.8117e-05 - accuracy: 1.0000 - val_loss: 0.2924 - val_accuracy: 0.9474\n",
            "Epoch 33/40\n",
            "97/97 [==============================] - 1s 7ms/step - loss: 1.7942e-05 - accuracy: 1.0000 - val_loss: 0.2920 - val_accuracy: 0.9474\n",
            "Epoch 34/40\n",
            "97/97 [==============================] - 1s 7ms/step - loss: 5.0911e-05 - accuracy: 1.0000 - val_loss: 0.3359 - val_accuracy: 0.9474\n",
            "Epoch 35/40\n",
            "97/97 [==============================] - 1s 7ms/step - loss: 1.6407e-05 - accuracy: 1.0000 - val_loss: 0.3316 - val_accuracy: 0.9474\n",
            "Epoch 36/40\n",
            "97/97 [==============================] - 1s 7ms/step - loss: 3.1019e-05 - accuracy: 1.0000 - val_loss: 0.2966 - val_accuracy: 0.9503\n",
            "Epoch 37/40\n",
            "97/97 [==============================] - 1s 8ms/step - loss: 1.4833e-05 - accuracy: 1.0000 - val_loss: 0.3038 - val_accuracy: 0.9474\n",
            "Epoch 38/40\n",
            "97/97 [==============================] - 1s 7ms/step - loss: 1.1858e-05 - accuracy: 1.0000 - val_loss: 0.3079 - val_accuracy: 0.9474\n",
            "Epoch 39/40\n",
            "97/97 [==============================] - 1s 6ms/step - loss: 1.3992e-05 - accuracy: 1.0000 - val_loss: 0.3176 - val_accuracy: 0.9474\n",
            "Epoch 40/40\n",
            "97/97 [==============================] - 1s 6ms/step - loss: 1.0751e-05 - accuracy: 1.0000 - val_loss: 0.3167 - val_accuracy: 0.9474\n"
          ],
          "name": "stdout"
        }
      ]
    },
    {
      "cell_type": "code",
      "metadata": {
        "id": "wBAbInuPz4Yz",
        "outputId": "aae159c7-fe43-436f-b8ea-e0a6285f55ab",
        "colab": {
          "base_uri": "https://localhost:8080/",
          "height": 826
        }
      },
      "source": [
        "import matplotlib.pyplot as plt\n",
        "acc = history.history['accuracy']\n",
        "loss = history.history['loss']\n",
        "val_accuracy= history.history['val_accuracy']\n",
        "val_loss = history.history['val_loss']\n",
        "epochs = range(len(acc))\n",
        "\n",
        "plt.plot(epochs, acc, 'b', label='Training accuracy')\n",
        "plt.title('Training accuracy')\n",
        "\n",
        "plt.figure()\n",
        "\n",
        "plt.plot(epochs, loss, 'b', label='Training Loss')\n",
        "plt.title('Training loss')\n",
        "plt.figure()\n",
        "\n",
        "plt.plot(epochs, val_accuracy, 'b', label='Validation accuracy')\n",
        "plt.title('Validation accuracy')\n",
        "\n",
        "plt.figure()\n",
        "\n",
        "\n",
        "plt.show()"
      ],
      "execution_count": 73,
      "outputs": [
        {
          "output_type": "display_data",
          "data": {
            "image/png": "[encoded data removed]",
            "text/plain": [
              "<Figure size 432x288 with 1 Axes>"
            ]
          },
          "metadata": {
            "tags": [],
            "needs_background": "light"
          }
        },
        {
          "output_type": "display_data",
          "data": {
            "image/png": "[encoded data removed]",
            "text/plain": [
              "<Figure size 432x288 with 1 Axes>"
            ]
          },
          "metadata": {
            "tags": [],
            "needs_background": "light"
          }
        },
        {
          "output_type": "display_data",
          "data": {
            "image/png": "[encoded data removed]",
            "text/plain": [
              "<Figure size 432x288 with 1 Axes>"
            ]
          },
          "metadata": {
            "tags": [],
            "needs_background": "light"
          }
        },
        {
          "output_type": "display_data",
          "data": {
            "text/plain": [
              "<Figure size 432x288 with 0 Axes>"
            ]
          },
          "metadata": {
            "tags": []
          }
        }
      ]
    },
    {
      "cell_type": "code",
      "metadata": {
        "id": "8R1Lw0w70GNV",
        "outputId": "2d8ace7d-7ab9-4f32-b995-4a8427499925",
        "colab": {
          "base_uri": "https://localhost:8080/"
        }
      },
      "source": [
        "##test_text = \"مانده خاکستر گرمی جایی؟\" ## This is from other parts of Selected poem collection from Akhavan\n",
        "test_text = \"ای دل مباش یک دم خالی ز عشق و مستی\" ## This is from other Robaiyat from Hafez\n",
        "##test_text = \"چه بر گیو و بر لشکرش همچنین\" ## This is from other parts of Shahnameh from Ferdowsi\n",
        "token_list = tokenizer.texts_to_sequences([test_text])\n",
        "token_list = pad_sequences(token_list, maxlen=8, padding='pre')\n",
        "predicted = np.argmax(model.predict(token_list, verbose=0))\n",
        "if (predicted ==0):\n",
        "  print(\"This sample test is likely to be from Hafiz\")\n",
        "if (predicted ==1):\n",
        "  print(\"This sample test is likely to be from Ferdowsi\")\n",
        "if (predicted ==2):\n",
        "  print(\"This sample test is likely to be from Akhavan\")"
      ],
      "execution_count": 75,
      "outputs": [
        {
          "output_type": "stream",
          "text": [
            "This sample test is likely to be from Hafiz\n"
          ],
          "name": "stdout"
        }
      ]
    },
    {
      "cell_type": "code",
      "metadata": {
        "id": "QJ2wTgmpGd2H"
      },
      "source": [
        ""
      ],
      "execution_count": null,
      "outputs": []
    },
    {
      "cell_type": "code",
      "metadata": {
        "id": "34pehgnS2RDJ"
      },
      "source": [
        ""
      ],
      "execution_count": null,
      "outputs": []
    }
  ]
}